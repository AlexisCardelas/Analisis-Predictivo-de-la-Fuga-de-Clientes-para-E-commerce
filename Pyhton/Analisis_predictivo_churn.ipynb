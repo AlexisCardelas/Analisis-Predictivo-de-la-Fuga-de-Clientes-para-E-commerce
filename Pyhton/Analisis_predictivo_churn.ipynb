{
 "cells": [
  {
   "cell_type": "markdown",
   "metadata": {},
   "source": [
    "# Análisis Predictivo de la Fuga de Clientes (Churn)\n",
    "\n",
    "**Objetivo:** Construir un modelo de Machine Learning que prediga la probabilidad de que un cliente se fugue, basándose en su comportamiento y características. Este análisis nos permitirá identificar los factores más influyentes en la deserción de clientes."
   ]
  },
  {
   "cell_type": "markdown",
   "metadata": {},
   "source": [
    "## 1. Importación de Librerías y Carga de Datos\n",
    "Usaremos `pandas` para la manipulación de datos y `scikit-learn` para el modelo predictivo. Asumimos que el archivo CSV ya fue exportado desde la base de datos SQL."
   ]
  },
  {
   "cell_type": "code",
   "execution_count": null,
   "metadata": {},
   "outputs": [],
   "source": [
    "import pandas as pd\n",
    "from sklearn.model_selection import train_test_split\n",
    "from sklearn.ensemble import RandomForestClassifier\n",
    "from sklearn.metrics import accuracy_score, classification_report\n",
    "import matplotlib.pyplot as plt\n",
    "import seaborn as sns\n",
    "\n",
    "# Cargar los datos desde el archivo CSV\n",
    "df = pd.read_csv('../Data/ecommerce_dashboard_data.csv')\n",
    "print(df.head())"
   ]
  },
  {
   "cell_type": "markdown",
   "metadata": {},
   "source": [
    "## 2. Preprocesamiento de Datos\n",
    "Antes de modelar, necesitamos asegurarnos de que los datos estén limpios y en un formato adecuado. Convertimos la variable 'gender' a un formato numérico."
   ]
  },
  {
   "cell_type": "code",
   "execution_count": null,
   "metadata": {},
   "outputs": [],
   "source": [
    "# Convertir la columna 'gender' a valores numéricos\n",
    "df['gender'] = df['gender'].astype('category').cat.codes\n",
    "\n",
    "# Seleccionar las características (X) y la variable objetivo (y)\n",
    "# Excluimos las columnas que no son relevantes para el modelo\n",
    "features = ['gender', 'annual_income', 'years_as_customer', 'last_purchase_days_ago', 'total_spend', 'price', 'quantity']\n",
    "X = df[features]\n",
    "y = df['target_churn']\n",
    "\n",
    "print(X.head())"
   ]
  },
  {
   "cell_type": "markdown",
   "metadata": {},
   "source": [
    "## 3. División de los Datos y Creación del Modelo\n",
    "Dividimos los datos en conjuntos de entrenamiento y prueba. Usamos un `RandomForestClassifier` porque es un modelo robusto que funciona bien con datos tabulares y nos permite obtener la importancia de las características."
   ]
  },
  {
   "cell_type": "code",
   "execution_count": null,
   "metadata": {},
   "outputs": [],
   "source": [
    "# Dividir los datos en conjuntos de entrenamiento y prueba (80/20)\n",
    "X_train, X_test, y_train, y_test = train_test_split(X, y, test_size=0.2, random_state=42)\n",
    "\n",
    "# Inicializar y entrenar el modelo de Random Forest\n",
    "model = RandomForestClassifier(n_estimators=100, random_state=42)\n",
    "model.fit(X_train, y_train)"
   ]
  },
  {
   "cell_type": "markdown",
   "metadata": {},
   "source": [
    "## 4. Evaluación del Modelo\n",
    "Evaluamos el rendimiento del modelo en el conjunto de prueba y mostramos la precisión y el reporte de clasificación."
   ]
  },
  {
   "cell_type": "code",
   "execution_count": null,
   "metadata": {},
   "outputs": [],
   "source": [
    "# Realizar predicciones en el conjunto de prueba\n",
    "y_pred = model.predict(X_test)\n",
    "\n",
    "# Evaluar la precisión y mostrar el reporte de clasificación\n",
    "print(\"Precisión del modelo:\", accuracy_score(y_test, y_pred))\n",
    "print(\"\\nReporte de Clasificación:\\n\", classification_report(y_test, y_pred))"
   ]
  },
  {
   "cell_type": "markdown",
   "metadata": {},
   "source": [
    "## 5. Importancia de las Características\n",
    "Extraemos y visualizamos la importancia de cada característica para entender qué variables son las más influyentes en la predicción de la fuga de clientes. Esto es clave para la toma de decisiones de negocio."
   ]
  },
  {
   "cell_type": "code",
   "execution_count": null,
   "metadata": {},
   "outputs": [],
   "source": [
    "# Obtener la importancia de las características del modelo\n",
    "feature_importances = pd.Series(model.feature_importances_, index=features).sort_values(ascending=False)\n",
    "\n",
    "# Visualizar la importancia de las características\n",
    "plt.figure(figsize=(10, 6))\n",
    "sns.barplot(x=feature_importances, y=feature_importances.index)\n",
    "plt.title('Importancia de las Características para la Predicción de Churn')\n",
    "plt.xlabel('Importancia Relativa')\n",
    "plt.ylabel('Características')\n",
    "plt.show()"
   ]
  }
 ],
 "metadata": {
  "kernelspec": {
   "display_name": "Python 3",
   "language": "python",
   "name": "python3"
  },
  "language_info": {
   "codemirror_mode": {
    "name": "ipython",
    "version": 3
   },
   "file_extension": ".py",
   "mimetype": "text/x-python",
   "name": "python",
   "nbconvert_exporter": "python",
   "pygments_lexer": "ipython3",
   "version": "3.8.8"
  }
 },
 "nbformat": 4,
 "nbformat_minor": 4
}
